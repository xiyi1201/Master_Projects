{
 "cells": [
  {
   "cell_type": "code",
   "execution_count": 1,
   "id": "6ff49a83",
   "metadata": {},
   "outputs": [],
   "source": [
    "import pandas as pd\n",
    "from sklearn.model_selection import train_test_split\n",
    "from sklearn.linear_model import LinearRegression\n",
    "from sklearn.metrics import mean_squared_error\n",
    "import matplotlib.pyplot as plt"
   ]
  },
  {
   "cell_type": "markdown",
   "id": "0b49249e",
   "metadata": {},
   "source": [
    "### Make sure you apply the same transformations on your X_test and y_test data sets that you applied on the X_train and y_train data sets. Make sure that your X_train, y_train, X_test and y_test data sets only contain columns of numeric and non-null values. Explain and justify how you decide to deal with data issues."
   ]
  },
  {
   "cell_type": "code",
   "execution_count": 2,
   "id": "d32d831c",
   "metadata": {},
   "outputs": [],
   "source": [
    "import pickle\n",
    "\n",
    "# read pickle file\n",
    "with open('train.pkl', 'rb') as file:\n",
    "    train_pkl = pickle.load(file)\n",
    "    \n",
    "with open('test.pkl', 'rb') as file:\n",
    "    test_pkl = pickle.load(file)"
   ]
  },
  {
   "cell_type": "code",
   "execution_count": 3,
   "id": "ed05088b",
   "metadata": {},
   "outputs": [
    {
     "name": "stdout",
     "output_type": "stream",
     "text": [
      "<class 'pandas.core.frame.DataFrame'>\n",
      "Index: 5202 entries, 0 to 14087\n",
      "Data columns (total 29 columns):\n",
      " #   Column                           Non-Null Count  Dtype  \n",
      "---  ------                           --------------  -----  \n",
      " 0   movie_title                      5202 non-null   object \n",
      " 1   rating                           5202 non-null   object \n",
      " 2   genre                            5202 non-null   object \n",
      " 3   runtime_in_minutes               5202 non-null   float64\n",
      " 4   critic_rating                    5202 non-null   int64  \n",
      " 5   in_theatre_year                  5202 non-null   int64  \n",
      " 6   kid_friendly                     5202 non-null   int64  \n",
      " 7   count                            5202 non-null   int64  \n",
      " 8   genre_Action & Adventure         5202 non-null   int64  \n",
      " 9   genre_Animation                  5202 non-null   int64  \n",
      " 10  genre_Art House & International  5202 non-null   int64  \n",
      " 11  genre_Classics                   5202 non-null   int64  \n",
      " 12  genre_Comedy                     5202 non-null   int64  \n",
      " 13  genre_Cult Movies                5202 non-null   int64  \n",
      " 14  genre_Documentary                5202 non-null   int64  \n",
      " 15  genre_Drama                      5202 non-null   int64  \n",
      " 16  genre_Horror                     5202 non-null   int64  \n",
      " 17  genre_Kids & Family              5202 non-null   int64  \n",
      " 18  genre_Musical & Performing Arts  5202 non-null   int64  \n",
      " 19  genre_Mystery & Suspense         5202 non-null   int64  \n",
      " 20  genre_Romance                    5202 non-null   int64  \n",
      " 21  genre_Science Fiction & Fantasy  5202 non-null   int64  \n",
      " 22  genre_Western                    5202 non-null   int64  \n",
      " 23  prior_to_1970                    5202 non-null   int64  \n",
      " 24  release_season_Fall              5202 non-null   int64  \n",
      " 25  release_season_Spring            5202 non-null   int64  \n",
      " 26  release_season_Summer            5202 non-null   int64  \n",
      " 27  release_season_Winter            5202 non-null   int64  \n",
      " 28  streaming_lag_years              5202 non-null   int64  \n",
      "dtypes: float64(1), int64(25), object(3)\n",
      "memory usage: 1.2+ MB\n"
     ]
    }
   ],
   "source": [
    "# drop unnecessary columns\n",
    "train = train_pkl.drop(columns=['movie_info', 'directors','writers','cast','in_theaters_date','on_streaming_date','studio_name','release_season','streaming_lag'])\n",
    "test = test_pkl.drop(columns=['movie_info', 'directors','writers','cast','in_theaters_date','on_streaming_date','studio_name','release_season','streaming_lag'])\n",
    "test.info()"
   ]
  },
  {
   "cell_type": "markdown",
   "id": "3c0527e8",
   "metadata": {},
   "source": [
    "Since the data is large enough and it is hard to infer the missing values from other rows, we decide to remove all rows contains missing NAs in the data. Then we divide them into trainset and testset to ensure that there is no Null values and all are numeric. "
   ]
  },
  {
   "cell_type": "markdown",
   "id": "88183689",
   "metadata": {},
   "source": [
    "### Fit 3 linear regression models on the training data:\n"
   ]
  },
  {
   "cell_type": "markdown",
   "id": "41f785d3",
   "metadata": {},
   "source": [
    "### Model 1: Use only runtime_in_minutes"
   ]
  },
  {
   "cell_type": "code",
   "execution_count": 4,
   "id": "3ec9aa07",
   "metadata": {},
   "outputs": [
    {
     "data": {
      "text/html": [
       "<style>#sk-container-id-1 {color: black;background-color: white;}#sk-container-id-1 pre{padding: 0;}#sk-container-id-1 div.sk-toggleable {background-color: white;}#sk-container-id-1 label.sk-toggleable__label {cursor: pointer;display: block;width: 100%;margin-bottom: 0;padding: 0.3em;box-sizing: border-box;text-align: center;}#sk-container-id-1 label.sk-toggleable__label-arrow:before {content: \"▸\";float: left;margin-right: 0.25em;color: #696969;}#sk-container-id-1 label.sk-toggleable__label-arrow:hover:before {color: black;}#sk-container-id-1 div.sk-estimator:hover label.sk-toggleable__label-arrow:before {color: black;}#sk-container-id-1 div.sk-toggleable__content {max-height: 0;max-width: 0;overflow: hidden;text-align: left;background-color: #f0f8ff;}#sk-container-id-1 div.sk-toggleable__content pre {margin: 0.2em;color: black;border-radius: 0.25em;background-color: #f0f8ff;}#sk-container-id-1 input.sk-toggleable__control:checked~div.sk-toggleable__content {max-height: 200px;max-width: 100%;overflow: auto;}#sk-container-id-1 input.sk-toggleable__control:checked~label.sk-toggleable__label-arrow:before {content: \"▾\";}#sk-container-id-1 div.sk-estimator input.sk-toggleable__control:checked~label.sk-toggleable__label {background-color: #d4ebff;}#sk-container-id-1 div.sk-label input.sk-toggleable__control:checked~label.sk-toggleable__label {background-color: #d4ebff;}#sk-container-id-1 input.sk-hidden--visually {border: 0;clip: rect(1px 1px 1px 1px);clip: rect(1px, 1px, 1px, 1px);height: 1px;margin: -1px;overflow: hidden;padding: 0;position: absolute;width: 1px;}#sk-container-id-1 div.sk-estimator {font-family: monospace;background-color: #f0f8ff;border: 1px dotted black;border-radius: 0.25em;box-sizing: border-box;margin-bottom: 0.5em;}#sk-container-id-1 div.sk-estimator:hover {background-color: #d4ebff;}#sk-container-id-1 div.sk-parallel-item::after {content: \"\";width: 100%;border-bottom: 1px solid gray;flex-grow: 1;}#sk-container-id-1 div.sk-label:hover label.sk-toggleable__label {background-color: #d4ebff;}#sk-container-id-1 div.sk-serial::before {content: \"\";position: absolute;border-left: 1px solid gray;box-sizing: border-box;top: 0;bottom: 0;left: 50%;z-index: 0;}#sk-container-id-1 div.sk-serial {display: flex;flex-direction: column;align-items: center;background-color: white;padding-right: 0.2em;padding-left: 0.2em;position: relative;}#sk-container-id-1 div.sk-item {position: relative;z-index: 1;}#sk-container-id-1 div.sk-parallel {display: flex;align-items: stretch;justify-content: center;background-color: white;position: relative;}#sk-container-id-1 div.sk-item::before, #sk-container-id-1 div.sk-parallel-item::before {content: \"\";position: absolute;border-left: 1px solid gray;box-sizing: border-box;top: 0;bottom: 0;left: 50%;z-index: -1;}#sk-container-id-1 div.sk-parallel-item {display: flex;flex-direction: column;z-index: 1;position: relative;background-color: white;}#sk-container-id-1 div.sk-parallel-item:first-child::after {align-self: flex-end;width: 50%;}#sk-container-id-1 div.sk-parallel-item:last-child::after {align-self: flex-start;width: 50%;}#sk-container-id-1 div.sk-parallel-item:only-child::after {width: 0;}#sk-container-id-1 div.sk-dashed-wrapped {border: 1px dashed gray;margin: 0 0.4em 0.5em 0.4em;box-sizing: border-box;padding-bottom: 0.4em;background-color: white;}#sk-container-id-1 div.sk-label label {font-family: monospace;font-weight: bold;display: inline-block;line-height: 1.2em;}#sk-container-id-1 div.sk-label-container {text-align: center;}#sk-container-id-1 div.sk-container {/* jupyter's `normalize.less` sets `[hidden] { display: none; }` but bootstrap.min.css set `[hidden] { display: none !important; }` so we also need the `!important` here to be able to override the default hidden behavior on the sphinx rendered scikit-learn.org. See: https://github.com/scikit-learn/scikit-learn/issues/21755 */display: inline-block !important;position: relative;}#sk-container-id-1 div.sk-text-repr-fallback {display: none;}</style><div id=\"sk-container-id-1\" class=\"sk-top-container\"><div class=\"sk-text-repr-fallback\"><pre>LinearRegression()</pre><b>In a Jupyter environment, please rerun this cell to show the HTML representation or trust the notebook. <br />On GitHub, the HTML representation is unable to render, please try loading this page with nbviewer.org.</b></div><div class=\"sk-container\" hidden><div class=\"sk-item\"><div class=\"sk-estimator sk-toggleable\"><input class=\"sk-toggleable__control sk-hidden--visually\" id=\"sk-estimator-id-1\" type=\"checkbox\" checked><label for=\"sk-estimator-id-1\" class=\"sk-toggleable__label sk-toggleable__label-arrow\">LinearRegression</label><div class=\"sk-toggleable__content\"><pre>LinearRegression()</pre></div></div></div></div></div>"
      ],
      "text/plain": [
       "LinearRegression()"
      ]
     },
     "execution_count": 4,
     "metadata": {},
     "output_type": "execute_result"
    }
   ],
   "source": [
    "X_train1 = train[['runtime_in_minutes']]\n",
    "\n",
    "y_train = train['critic_rating']\n",
    "\n",
    "import warnings\n",
    "\n",
    "# Suppress FutureWarnings related to is_sparse deprecation\n",
    "warnings.simplefilter(action='ignore', category=FutureWarning)\n",
    "\n",
    "model1 = LinearRegression()\n",
    "model1.fit(X_train1, y_train)"
   ]
  },
  {
   "cell_type": "markdown",
   "id": "07827d58",
   "metadata": {},
   "source": [
    "### Model 2: Use runtime_in_minutes and kid_friendly"
   ]
  },
  {
   "cell_type": "code",
   "execution_count": 5,
   "id": "800603e5",
   "metadata": {},
   "outputs": [
    {
     "data": {
      "text/html": [
       "<style>#sk-container-id-2 {color: black;background-color: white;}#sk-container-id-2 pre{padding: 0;}#sk-container-id-2 div.sk-toggleable {background-color: white;}#sk-container-id-2 label.sk-toggleable__label {cursor: pointer;display: block;width: 100%;margin-bottom: 0;padding: 0.3em;box-sizing: border-box;text-align: center;}#sk-container-id-2 label.sk-toggleable__label-arrow:before {content: \"▸\";float: left;margin-right: 0.25em;color: #696969;}#sk-container-id-2 label.sk-toggleable__label-arrow:hover:before {color: black;}#sk-container-id-2 div.sk-estimator:hover label.sk-toggleable__label-arrow:before {color: black;}#sk-container-id-2 div.sk-toggleable__content {max-height: 0;max-width: 0;overflow: hidden;text-align: left;background-color: #f0f8ff;}#sk-container-id-2 div.sk-toggleable__content pre {margin: 0.2em;color: black;border-radius: 0.25em;background-color: #f0f8ff;}#sk-container-id-2 input.sk-toggleable__control:checked~div.sk-toggleable__content {max-height: 200px;max-width: 100%;overflow: auto;}#sk-container-id-2 input.sk-toggleable__control:checked~label.sk-toggleable__label-arrow:before {content: \"▾\";}#sk-container-id-2 div.sk-estimator input.sk-toggleable__control:checked~label.sk-toggleable__label {background-color: #d4ebff;}#sk-container-id-2 div.sk-label input.sk-toggleable__control:checked~label.sk-toggleable__label {background-color: #d4ebff;}#sk-container-id-2 input.sk-hidden--visually {border: 0;clip: rect(1px 1px 1px 1px);clip: rect(1px, 1px, 1px, 1px);height: 1px;margin: -1px;overflow: hidden;padding: 0;position: absolute;width: 1px;}#sk-container-id-2 div.sk-estimator {font-family: monospace;background-color: #f0f8ff;border: 1px dotted black;border-radius: 0.25em;box-sizing: border-box;margin-bottom: 0.5em;}#sk-container-id-2 div.sk-estimator:hover {background-color: #d4ebff;}#sk-container-id-2 div.sk-parallel-item::after {content: \"\";width: 100%;border-bottom: 1px solid gray;flex-grow: 1;}#sk-container-id-2 div.sk-label:hover label.sk-toggleable__label {background-color: #d4ebff;}#sk-container-id-2 div.sk-serial::before {content: \"\";position: absolute;border-left: 1px solid gray;box-sizing: border-box;top: 0;bottom: 0;left: 50%;z-index: 0;}#sk-container-id-2 div.sk-serial {display: flex;flex-direction: column;align-items: center;background-color: white;padding-right: 0.2em;padding-left: 0.2em;position: relative;}#sk-container-id-2 div.sk-item {position: relative;z-index: 1;}#sk-container-id-2 div.sk-parallel {display: flex;align-items: stretch;justify-content: center;background-color: white;position: relative;}#sk-container-id-2 div.sk-item::before, #sk-container-id-2 div.sk-parallel-item::before {content: \"\";position: absolute;border-left: 1px solid gray;box-sizing: border-box;top: 0;bottom: 0;left: 50%;z-index: -1;}#sk-container-id-2 div.sk-parallel-item {display: flex;flex-direction: column;z-index: 1;position: relative;background-color: white;}#sk-container-id-2 div.sk-parallel-item:first-child::after {align-self: flex-end;width: 50%;}#sk-container-id-2 div.sk-parallel-item:last-child::after {align-self: flex-start;width: 50%;}#sk-container-id-2 div.sk-parallel-item:only-child::after {width: 0;}#sk-container-id-2 div.sk-dashed-wrapped {border: 1px dashed gray;margin: 0 0.4em 0.5em 0.4em;box-sizing: border-box;padding-bottom: 0.4em;background-color: white;}#sk-container-id-2 div.sk-label label {font-family: monospace;font-weight: bold;display: inline-block;line-height: 1.2em;}#sk-container-id-2 div.sk-label-container {text-align: center;}#sk-container-id-2 div.sk-container {/* jupyter's `normalize.less` sets `[hidden] { display: none; }` but bootstrap.min.css set `[hidden] { display: none !important; }` so we also need the `!important` here to be able to override the default hidden behavior on the sphinx rendered scikit-learn.org. See: https://github.com/scikit-learn/scikit-learn/issues/21755 */display: inline-block !important;position: relative;}#sk-container-id-2 div.sk-text-repr-fallback {display: none;}</style><div id=\"sk-container-id-2\" class=\"sk-top-container\"><div class=\"sk-text-repr-fallback\"><pre>LinearRegression()</pre><b>In a Jupyter environment, please rerun this cell to show the HTML representation or trust the notebook. <br />On GitHub, the HTML representation is unable to render, please try loading this page with nbviewer.org.</b></div><div class=\"sk-container\" hidden><div class=\"sk-item\"><div class=\"sk-estimator sk-toggleable\"><input class=\"sk-toggleable__control sk-hidden--visually\" id=\"sk-estimator-id-2\" type=\"checkbox\" checked><label for=\"sk-estimator-id-2\" class=\"sk-toggleable__label sk-toggleable__label-arrow\">LinearRegression</label><div class=\"sk-toggleable__content\"><pre>LinearRegression()</pre></div></div></div></div></div>"
      ],
      "text/plain": [
       "LinearRegression()"
      ]
     },
     "execution_count": 5,
     "metadata": {},
     "output_type": "execute_result"
    }
   ],
   "source": [
    "X_train2 = train[['runtime_in_minutes','kid_friendly']]\n",
    "\n",
    "y_train = train['critic_rating']\n",
    "\n",
    "model2 = LinearRegression()\n",
    "model2.fit(X_train2, y_train)"
   ]
  },
  {
   "cell_type": "markdown",
   "id": "554324ed",
   "metadata": {},
   "source": [
    "### Model 3: Use runtime_in_minutes, kid_friendly and the dummy columns for the genres"
   ]
  },
  {
   "cell_type": "code",
   "execution_count": 6,
   "id": "76d52ad8",
   "metadata": {},
   "outputs": [
    {
     "data": {
      "text/html": [
       "<style>#sk-container-id-3 {color: black;background-color: white;}#sk-container-id-3 pre{padding: 0;}#sk-container-id-3 div.sk-toggleable {background-color: white;}#sk-container-id-3 label.sk-toggleable__label {cursor: pointer;display: block;width: 100%;margin-bottom: 0;padding: 0.3em;box-sizing: border-box;text-align: center;}#sk-container-id-3 label.sk-toggleable__label-arrow:before {content: \"▸\";float: left;margin-right: 0.25em;color: #696969;}#sk-container-id-3 label.sk-toggleable__label-arrow:hover:before {color: black;}#sk-container-id-3 div.sk-estimator:hover label.sk-toggleable__label-arrow:before {color: black;}#sk-container-id-3 div.sk-toggleable__content {max-height: 0;max-width: 0;overflow: hidden;text-align: left;background-color: #f0f8ff;}#sk-container-id-3 div.sk-toggleable__content pre {margin: 0.2em;color: black;border-radius: 0.25em;background-color: #f0f8ff;}#sk-container-id-3 input.sk-toggleable__control:checked~div.sk-toggleable__content {max-height: 200px;max-width: 100%;overflow: auto;}#sk-container-id-3 input.sk-toggleable__control:checked~label.sk-toggleable__label-arrow:before {content: \"▾\";}#sk-container-id-3 div.sk-estimator input.sk-toggleable__control:checked~label.sk-toggleable__label {background-color: #d4ebff;}#sk-container-id-3 div.sk-label input.sk-toggleable__control:checked~label.sk-toggleable__label {background-color: #d4ebff;}#sk-container-id-3 input.sk-hidden--visually {border: 0;clip: rect(1px 1px 1px 1px);clip: rect(1px, 1px, 1px, 1px);height: 1px;margin: -1px;overflow: hidden;padding: 0;position: absolute;width: 1px;}#sk-container-id-3 div.sk-estimator {font-family: monospace;background-color: #f0f8ff;border: 1px dotted black;border-radius: 0.25em;box-sizing: border-box;margin-bottom: 0.5em;}#sk-container-id-3 div.sk-estimator:hover {background-color: #d4ebff;}#sk-container-id-3 div.sk-parallel-item::after {content: \"\";width: 100%;border-bottom: 1px solid gray;flex-grow: 1;}#sk-container-id-3 div.sk-label:hover label.sk-toggleable__label {background-color: #d4ebff;}#sk-container-id-3 div.sk-serial::before {content: \"\";position: absolute;border-left: 1px solid gray;box-sizing: border-box;top: 0;bottom: 0;left: 50%;z-index: 0;}#sk-container-id-3 div.sk-serial {display: flex;flex-direction: column;align-items: center;background-color: white;padding-right: 0.2em;padding-left: 0.2em;position: relative;}#sk-container-id-3 div.sk-item {position: relative;z-index: 1;}#sk-container-id-3 div.sk-parallel {display: flex;align-items: stretch;justify-content: center;background-color: white;position: relative;}#sk-container-id-3 div.sk-item::before, #sk-container-id-3 div.sk-parallel-item::before {content: \"\";position: absolute;border-left: 1px solid gray;box-sizing: border-box;top: 0;bottom: 0;left: 50%;z-index: -1;}#sk-container-id-3 div.sk-parallel-item {display: flex;flex-direction: column;z-index: 1;position: relative;background-color: white;}#sk-container-id-3 div.sk-parallel-item:first-child::after {align-self: flex-end;width: 50%;}#sk-container-id-3 div.sk-parallel-item:last-child::after {align-self: flex-start;width: 50%;}#sk-container-id-3 div.sk-parallel-item:only-child::after {width: 0;}#sk-container-id-3 div.sk-dashed-wrapped {border: 1px dashed gray;margin: 0 0.4em 0.5em 0.4em;box-sizing: border-box;padding-bottom: 0.4em;background-color: white;}#sk-container-id-3 div.sk-label label {font-family: monospace;font-weight: bold;display: inline-block;line-height: 1.2em;}#sk-container-id-3 div.sk-label-container {text-align: center;}#sk-container-id-3 div.sk-container {/* jupyter's `normalize.less` sets `[hidden] { display: none; }` but bootstrap.min.css set `[hidden] { display: none !important; }` so we also need the `!important` here to be able to override the default hidden behavior on the sphinx rendered scikit-learn.org. See: https://github.com/scikit-learn/scikit-learn/issues/21755 */display: inline-block !important;position: relative;}#sk-container-id-3 div.sk-text-repr-fallback {display: none;}</style><div id=\"sk-container-id-3\" class=\"sk-top-container\"><div class=\"sk-text-repr-fallback\"><pre>LinearRegression()</pre><b>In a Jupyter environment, please rerun this cell to show the HTML representation or trust the notebook. <br />On GitHub, the HTML representation is unable to render, please try loading this page with nbviewer.org.</b></div><div class=\"sk-container\" hidden><div class=\"sk-item\"><div class=\"sk-estimator sk-toggleable\"><input class=\"sk-toggleable__control sk-hidden--visually\" id=\"sk-estimator-id-3\" type=\"checkbox\" checked><label for=\"sk-estimator-id-3\" class=\"sk-toggleable__label sk-toggleable__label-arrow\">LinearRegression</label><div class=\"sk-toggleable__content\"><pre>LinearRegression()</pre></div></div></div></div></div>"
      ],
      "text/plain": [
       "LinearRegression()"
      ]
     },
     "execution_count": 6,
     "metadata": {},
     "output_type": "execute_result"
    }
   ],
   "source": [
    "X_train3 = train[['runtime_in_minutes', 'kid_friendly',\n",
    "        'genre_Action & Adventure', 'genre_Animation', 'genre_Art House & International',\n",
    "        'genre_Classics', 'genre_Comedy', 'genre_Cult Movies', 'genre_Documentary',\n",
    "        'genre_Drama', 'genre_Horror', 'genre_Kids & Family', 'genre_Musical & Performing Arts',\n",
    "        'genre_Mystery & Suspense', 'genre_Romance', 'genre_Science Fiction & Fantasy', 'genre_Western']]\n",
    "\n",
    "\n",
    "y_train = train['critic_rating']\n",
    "\n",
    "model3 = LinearRegression()\n",
    "model3.fit(X_train3, y_train)"
   ]
  },
  {
   "cell_type": "markdown",
   "id": "6faea9f1",
   "metadata": {},
   "source": [
    "### Score the linear regression models on the test data by writing a function where you can input the y_test and y_pred values (y_pred = predicted values after you apply the fitted model to your X_test data), and it outputs the following metrics: R2, MAE and RMSE. Apply the function to the three models that you’ve fit so far."
   ]
  },
  {
   "cell_type": "code",
   "execution_count": 7,
   "id": "1c988b23",
   "metadata": {},
   "outputs": [],
   "source": [
    "from sklearn.metrics import r2_score, mean_absolute_error, mean_squared_error\n",
    "import numpy as np"
   ]
  },
  {
   "cell_type": "code",
   "execution_count": 8,
   "id": "79dbde23",
   "metadata": {},
   "outputs": [],
   "source": [
    "def evaluate_model(y_true, y_pred):\n",
    "    r2 = r2_score(y_true, y_pred)\n",
    "    mae = mean_absolute_error(y_true, y_pred)\n",
    "    rmse = np.sqrt(mean_squared_error(y_true, y_pred))\n",
    "    \n",
    "    return r2, mae, rmse"
   ]
  },
  {
   "cell_type": "code",
   "execution_count": 14,
   "id": "c6fb33f1",
   "metadata": {},
   "outputs": [],
   "source": [
    "# train set\n",
    "X_test1 = test[['runtime_in_minutes']]\n",
    "y_pred1 = model1.predict(X_test1)\n",
    "\n",
    "X_test2 = test[['runtime_in_minutes','kid_friendly']]\n",
    "y_pred2 = model2.predict(X_test2)\n",
    "\n",
    "X_test3 = test[['runtime_in_minutes', 'kid_friendly',\n",
    "        'genre_Action & Adventure', 'genre_Animation', 'genre_Art House & International',\n",
    "        'genre_Classics', 'genre_Comedy', 'genre_Cult Movies', 'genre_Documentary',\n",
    "        'genre_Drama', 'genre_Horror', 'genre_Kids & Family', 'genre_Musical & Performing Arts',\n",
    "        'genre_Mystery & Suspense', 'genre_Romance', 'genre_Science Fiction & Fantasy', 'genre_Western']]\n",
    "y_pred3 = model3.predict(X_test3)"
   ]
  },
  {
   "cell_type": "code",
   "execution_count": 15,
   "id": "ad1a5be2",
   "metadata": {},
   "outputs": [
    {
     "name": "stdout",
     "output_type": "stream",
     "text": [
      "Model 1 \n",
      " R2: 0.01 MAE: 24.28 RMSE: 28.18\n",
      "Model 2 \n",
      " R2: 0.01 MAE: 24.33 RMSE: 28.19\n",
      "Model 3 \n",
      " R2: 0.1 MAE: 22.77 RMSE: 26.86\n"
     ]
    }
   ],
   "source": [
    "# test set\n",
    "y_test = test['critic_rating']\n",
    "\n",
    "r2_1, mae_1, rmse_1 = evaluate_model(y_test, y_pred1)\n",
    "r2_2, mae_2, rmse_2 = evaluate_model(y_test, y_pred2)\n",
    "r2_3, mae_3, rmse_3 = evaluate_model(y_test, y_pred3)\n",
    "\n",
    "print(\"Model 1 \\n R2:\", round(r2_1,2), \"MAE:\", round(mae_1,2), \"RMSE:\", round(rmse_1,2))\n",
    "print(\"Model 2 \\n R2:\", round(r2_2,2), \"MAE:\", round(mae_2,2), \"RMSE:\", round(rmse_2,2))\n",
    "print(\"Model 3 \\n R2:\", round(r2_3,2), \"MAE:\", round(mae_3,2), \"RMSE:\", round(rmse_3,2))"
   ]
  },
  {
   "cell_type": "markdown",
   "id": "965bd8b8",
   "metadata": {},
   "source": [
    "### Which model performs the best so far? Which features seem to do a good job predicting the critic rating (hint: you can check p-values using statsmodels)?\n"
   ]
  },
  {
   "cell_type": "markdown",
   "id": "bcf29dc0",
   "metadata": {},
   "source": [
    "We see that in terms of R2, Model 1 and Model 2 have very low R2 values (close to 0), suggesting that the models explain very little variance in the target variable.\n",
    "Model 3 has a slightly higher R2 value (0.1), indicating a slightly better fit compared to Models 1 and 2. However, an R2 of 0.1 still suggests a relatively weak fit.\n",
    "\n",
    "In terms of MAE, Model 3 has the lowest MAE (22.77), suggesting that, on average, its predictions are closer to the actual values compared to Models 1 and 2.\n",
    "\n",
    "RMSE is similar to MAE but gives more weight to larger errors. Model 3 has the lowest RMSE (26.86), suggesting that it has smaller errors on average compared to Models 1 and 2.\n",
    "\n",
    "Overall, Model 3 performs better than Models 1 and 2 in terms of R2, MAE, and RMSE."
   ]
  },
  {
   "cell_type": "markdown",
   "id": "1ebfe174",
   "metadata": {},
   "source": [
    "### Try fitting 3 more linear regression models on your own using a combination of the columns so far (runtime_in_minutes, kid-friendly and the dummy columns for genre) and your newly engineered features.\n",
    "• Each subsequent model should attempt to do a better job at prediction than the previous model (even if the metrics don’t end up being better, your choices should make sense)\n",
    "\n",
    "• With each new model, explain why are you making your decisions of which feature(s) to include / remove\n"
   ]
  },
  {
   "cell_type": "code",
   "execution_count": 16,
   "id": "85abc540",
   "metadata": {},
   "outputs": [
    {
     "data": {
      "text/plain": [
       "Index(['movie_title', 'rating', 'genre', 'runtime_in_minutes', 'critic_rating',\n",
       "       'in_theatre_year', 'kid_friendly', 'count', 'genre_Action & Adventure',\n",
       "       'genre_Animation', 'genre_Art House & International', 'genre_Classics',\n",
       "       'genre_Comedy', 'genre_Cult Movies', 'genre_Documentary', 'genre_Drama',\n",
       "       'genre_Horror', 'genre_Kids & Family',\n",
       "       'genre_Musical & Performing Arts', 'genre_Mystery & Suspense',\n",
       "       'genre_Romance', 'genre_Science Fiction & Fantasy', 'genre_Western',\n",
       "       'prior_to_1970', 'release_season_Fall', 'release_season_Spring',\n",
       "       'release_season_Summer', 'release_season_Winter',\n",
       "       'streaming_lag_years'],\n",
       "      dtype='object')"
      ]
     },
     "execution_count": 16,
     "metadata": {},
     "output_type": "execute_result"
    }
   ],
   "source": [
    "train.columns"
   ]
  },
  {
   "cell_type": "markdown",
   "id": "98dd3a08",
   "metadata": {},
   "source": [
    "### Model 4: Does release season affect the critic rating? \n",
    "For example, movies released near or during award seasons (e.g., late fall and early winter) might receive more attention from critics due to considerations for prestigious awards."
   ]
  },
  {
   "cell_type": "code",
   "execution_count": 37,
   "id": "b23f5940",
   "metadata": {},
   "outputs": [],
   "source": [
    "X_train4 = train[['runtime_in_minutes','kid_friendly','release_season_Fall', 'release_season_Spring',\n",
    "       'release_season_Summer', 'release_season_Winter']]\n",
    "\n",
    "y_train = train['critic_rating']\n",
    "\n",
    "model4 = LinearRegression()\n",
    "model4.fit(X_train4, y_train)\n",
    "\n",
    "X_test4 = test[['runtime_in_minutes','kid_friendly','release_season_Fall', 'release_season_Spring',\n",
    "       'release_season_Summer', 'release_season_Winter']]\n",
    "y_pred4 = model4.predict(X_test4)"
   ]
  },
  {
   "cell_type": "markdown",
   "id": "1ea26780",
   "metadata": {},
   "source": [
    "### Model 5: Does the lag between in theatre and on streaming affect the critic rating on different genres?\n",
    "Movies available for streaming shortly after their theatrical release might attract more viewers and potentially receive more reviews, which could influence critic ratings.\n",
    "\n",
    "Viewer expectations may vary depending on the type of movie. For example, certain genres or types of films may be expected to perform better in theatres, while others may find success through streaming."
   ]
  },
  {
   "cell_type": "code",
   "execution_count": 51,
   "id": "7ba32623",
   "metadata": {},
   "outputs": [],
   "source": [
    "X_train5 = train[['runtime_in_minutes','kid_friendly','streaming_lag_years','genre_Action & Adventure', 'genre_Animation', 'genre_Art House & International',\n",
    "        'genre_Classics', 'genre_Comedy', 'genre_Cult Movies', 'genre_Documentary',\n",
    "        'genre_Drama', 'genre_Horror', 'genre_Kids & Family', 'genre_Musical & Performing Arts',\n",
    "        'genre_Mystery & Suspense', 'genre_Romance', 'genre_Science Fiction & Fantasy', 'genre_Western']]\n",
    "\n",
    "y_train = train['critic_rating']\n",
    "\n",
    "model5 = LinearRegression()\n",
    "model5.fit(X_train5, y_train)\n",
    "\n",
    "X_test5 = test[['runtime_in_minutes','kid_friendly','streaming_lag_years','genre_Action & Adventure', 'genre_Animation', 'genre_Art House & International',\n",
    "        'genre_Classics', 'genre_Comedy', 'genre_Cult Movies', 'genre_Documentary',\n",
    "        'genre_Drama', 'genre_Horror', 'genre_Kids & Family', 'genre_Musical & Performing Arts',\n",
    "        'genre_Mystery & Suspense', 'genre_Romance', 'genre_Science Fiction & Fantasy', 'genre_Western']]\n",
    "y_pred5 = model5.predict(X_test5)"
   ]
  },
  {
   "cell_type": "markdown",
   "id": "5864f4d1",
   "metadata": {},
   "source": [
    "### Model 6: Does the movies prior to 1970 and genre affect the critic rating?\n",
    "Movies released before 1970 may have historical significance and cultural impact, potentially affecting how critics perceive and evaluate them. Some movies released prior to 1970 are considered classics and may receive higher ratings due to their enduring popularity and influence on subsequent films.\n",
    "\n",
    "Critic ratings might be influenced by trends in genre popularity. For example, certain genres may experience periods of resurgence in critical acclaim."
   ]
  },
  {
   "cell_type": "code",
   "execution_count": 59,
   "id": "ca856a20",
   "metadata": {},
   "outputs": [],
   "source": [
    "X_train6 = train[['runtime_in_minutes','prior_to_1970','genre_Action & Adventure', 'genre_Animation', 'genre_Art House & International',\n",
    "        'genre_Classics', 'genre_Comedy', 'genre_Cult Movies', 'genre_Documentary',\n",
    "        'genre_Drama', 'genre_Horror', 'genre_Kids & Family', 'genre_Musical & Performing Arts',\n",
    "        'genre_Mystery & Suspense', 'genre_Romance', 'genre_Science Fiction & Fantasy', 'genre_Western']]\n",
    "\n",
    "y_train = train['critic_rating']\n",
    "\n",
    "model6 = LinearRegression()\n",
    "model6.fit(X_train6, y_train)\n",
    "\n",
    "X_test6 = test[['runtime_in_minutes','prior_to_1970','genre_Action & Adventure', 'genre_Animation', 'genre_Art House & International',\n",
    "        'genre_Classics', 'genre_Comedy', 'genre_Cult Movies', 'genre_Documentary',\n",
    "        'genre_Drama', 'genre_Horror', 'genre_Kids & Family', 'genre_Musical & Performing Arts',\n",
    "        'genre_Mystery & Suspense', 'genre_Romance', 'genre_Science Fiction & Fantasy', 'genre_Western']]\n",
    "y_pred6 = model6.predict(X_test6)"
   ]
  },
  {
   "cell_type": "code",
   "execution_count": 60,
   "id": "b4aaee8d",
   "metadata": {},
   "outputs": [
    {
     "name": "stdout",
     "output_type": "stream",
     "text": [
      "Model 4 \n",
      " R2: 0.0 MAE: 24.42 RMSE: 28.27\n",
      "Model 5 \n",
      " R2: 0.04 MAE: 23.6 RMSE: 27.71\n",
      "Model 6 \n",
      " R2: 0.09 MAE: 22.94 RMSE: 26.92\n"
     ]
    }
   ],
   "source": [
    "# test set\n",
    "y_test = test['critic_rating']\n",
    "\n",
    "r2_4, mae_4, rmse_4 = evaluate_model(y_test, y_pred4)\n",
    "r2_5, mae_5, rmse_5 = evaluate_model(y_test, y_pred5)\n",
    "r2_6, mae_6, rmse_6 = evaluate_model(y_test, y_pred6)\n",
    "\n",
    "print(\"Model 4 \\n R2:\", round(r2_4,2), \"MAE:\", round(mae_4,2), \"RMSE:\", round(rmse_4,2))\n",
    "print(\"Model 5 \\n R2:\", round(r2_5,2), \"MAE:\", round(mae_5,2), \"RMSE:\", round(rmse_5,2))\n",
    "print(\"Model 6 \\n R2:\", round(r2_6,2), \"MAE:\", round(mae_6,2), \"RMSE:\", round(rmse_6,2))"
   ]
  },
  {
   "cell_type": "markdown",
   "id": "758d1618",
   "metadata": {},
   "source": [
    "### Out of the 6 models you created, which model performs the best? Which features seem to do a good job predicting the critic rating?\n"
   ]
  },
  {
   "cell_type": "markdown",
   "id": "6967e1b4",
   "metadata": {},
   "source": [
    "Model 6 performs better than Model 4 and Model 5 based on all three metrics (R2, MAE, RMSE).\n",
    "\n",
    "While the R2 values are still relatively low, indicating that the models are not explaining a large portion of the variance, the decrease in MAE and RMSE in Model 6 suggests improved predictive performance compared to the previous models."
   ]
  },
  {
   "cell_type": "markdown",
   "id": "8eea27d5",
   "metadata": {},
   "source": [
    "### List 3 other things you could to do at this point to try and improve your model."
   ]
  },
  {
   "cell_type": "markdown",
   "id": "62ac9ce4",
   "metadata": {},
   "source": [
    "1. Models, even when improved, may not capture all the nuances and complexities of the underlying data. Since we only use the linear regression to fit, there may exist the **nonlinear relationships**."
   ]
  },
  {
   "cell_type": "markdown",
   "id": "ed64a214",
   "metadata": {},
   "source": [
    "2. The results above highlights the possibility of needing to include additional features, since there is no apparent improvement compared to Model 1-3. This recognizes that the predictive power of the models may be enhanced by incorporating more relevant variables that contribute to explaining the variability in critic ratings. Adjustments can be made to the existing models, such as **fine-tuning hyperparameters, feature engineering**, or considering alternative modeling techniques, may be beneficial for better performance."
   ]
  },
  {
   "cell_type": "markdown",
   "id": "60e8fdbc",
   "metadata": {},
   "source": [
    "3. During our process of **data cleasing**, we dropped all the NA rows, which may contain important portion in predicting critic_rating. For example, if the data before 2010 is mostly dropped, we may lose some fit in our training model because of the lack of enough data. We may consider adding them back and inference those NA values by appropriate methods. "
   ]
  }
 ],
 "metadata": {
  "kernelspec": {
   "display_name": "Python 3 (ipykernel)",
   "language": "python",
   "name": "python3"
  },
  "language_info": {
   "codemirror_mode": {
    "name": "ipython",
    "version": 3
   },
   "file_extension": ".py",
   "mimetype": "text/x-python",
   "name": "python",
   "nbconvert_exporter": "python",
   "pygments_lexer": "ipython3",
   "version": "3.11.6"
  }
 },
 "nbformat": 4,
 "nbformat_minor": 5
}
