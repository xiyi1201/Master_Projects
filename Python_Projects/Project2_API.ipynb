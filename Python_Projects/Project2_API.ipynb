{
 "cells": [
  {
   "cell_type": "markdown",
   "id": "00b91a1a",
   "metadata": {},
   "source": [
    "# Write a Python program that gathers, summarizes and plots weather data.\n",
    "1. Go to the WorldWeather API site (https://www.worldweatheronline.com/weather-api/) and get a free 30-day trial. Remember your API key.\n",
    "2. Get one month of historical temperature data for 20 distinct locations.\n",
    "3. Create a summary table that summarizes them in, mean and max temperature values during that month for each location.\n",
    "4. Plot the mean temperature for each location, compare the temperature data and share your insights.\n",
    "\n",
    "NOTE: Please start this assignment early. You are limited to 500 API calls per day."
   ]
  },
  {
   "cell_type": "markdown",
   "id": "758b2d6c",
   "metadata": {},
   "source": [
    "# Request Data"
   ]
  },
  {
   "cell_type": "code",
   "execution_count": 48,
   "id": "3789acce",
   "metadata": {},
   "outputs": [],
   "source": [
    "import requests\n",
    "import json\n",
    "import pandas as pd\n",
    "\n",
    "NEWS_API_KEY = '5f4f35bf5b3643a3a6904602233110'\n",
    "NEWS_API_URL = 'https://api.worldweatheronline.com/premium/v1/past-weather.ashx'"
   ]
  },
  {
   "cell_type": "code",
   "execution_count": 44,
   "id": "2d2b739d",
   "metadata": {},
   "outputs": [],
   "source": [
    "# subtract the month: September\n",
    "for day in range(1, 31):  # Assuming you want data for the entire month\n",
    "    date = f'2023-09-{day:02}'\n",
    "    #print(date)"
   ]
  },
  {
   "cell_type": "code",
   "execution_count": 27,
   "id": "8ab04b41",
   "metadata": {},
   "outputs": [],
   "source": [
    "# first select 10 Cities\n",
    "locations = ['London', 'Paris', 'New York', 'Tokyo', 'Seoul', 'Beijing', 'Los Angeles', 'Moscow', 'Chicago', 'Bangkok'] \n",
    "\n",
    "all_data = {}  # Dictionary to store all retrieved data\n",
    "\n",
    "# Loop through each location\n",
    "for location in locations:\n",
    "    data_for_location = {}  # Dictionary to store data for each location\n",
    "    for day in range(1, 31):  # Assuming you want data for the entire month\n",
    "        date = f'2023-09-{day:02}'  # Format the date (year-month-day)\n",
    "\n",
    "        params = {\n",
    "                    'q': location,\n",
    "                    'date': date,\n",
    "                    'format': 'json',\n",
    "                    'tp': '24',\n",
    "                    'Key': NEWS_API_KEY\n",
    "                }\n",
    "\n",
    "        response = requests.get(NEWS_API_URL, params=params)\n",
    "\n",
    "        if response.status_code == 200:\n",
    "            try:\n",
    "                data = response.json()\n",
    "                data_for_location[date] = data  # Store the retrieved data for the date\n",
    "            except ValueError as e:\n",
    "                print(f\"JSON decoding failed for {location} on {date}:\", e)\n",
    "        else:\n",
    "            print(f\"Request failed for {location} on {date} with status code:\", response.status_code)\n",
    "\n",
    "    all_data[location] = data_for_location  # Store data for the location in the main dictionary"
   ]
  },
  {
   "cell_type": "code",
   "execution_count": 31,
   "id": "6ce2d912",
   "metadata": {},
   "outputs": [],
   "source": [
    "# Select another 10 cities\n",
    "locations1 = ['Miami', 'Toronto', 'Dallas', 'Italy', 'Singapore', 'Atlanta', 'Shanghai', 'Taiwan', 'Osaka', 'Mexico City'] \n",
    "\n",
    "all_data1 = {}  # Dictionary to store all retrieved data\n",
    "\n",
    "# Loop through each location\n",
    "for location in locations1:\n",
    "    data_for_location1 = {}  # Dictionary to store data for each location\n",
    "    for day in range(1, 31):  # Assuming you want data for the entire month\n",
    "        date = f'2023-09-{day:02}'  # Format the date (year-month-day)\n",
    "\n",
    "        params = {\n",
    "                    'q': location,\n",
    "                    'date': date,\n",
    "                    'format': 'json',\n",
    "                    'tp': '24',\n",
    "                    'Key': NEWS_API_KEY\n",
    "                }\n",
    "\n",
    "        response = requests.get(NEWS_API_URL, params=params)\n",
    "\n",
    "        if response.status_code == 200:\n",
    "            try:\n",
    "                data = response.json()\n",
    "                data_for_location1[date] = data  # Store the retrieved data for the date\n",
    "            except ValueError as e:\n",
    "                print(f\"JSON decoding failed for {location} on {date}:\", e)\n",
    "        else:\n",
    "            print(f\"Request failed for {location} on {date} with status code:\", response.status_code)\n",
    "\n",
    "    all_data1[location] = data_for_location1  # Store data for the location in the main dictionary"
   ]
  },
  {
   "cell_type": "code",
   "execution_count": 39,
   "id": "682f1b1b",
   "metadata": {},
   "outputs": [
    {
     "name": "stdout",
     "output_type": "stream",
     "text": [
      "Combined data saved to 'combined_weather_data.json'\n"
     ]
    }
   ],
   "source": [
    "# combine two json dictionaries together\n",
    "data = {**all_data, **all_data1}\n",
    "\n",
    "# Write the combined data to a new JSON file\n",
    "with open('combined_weather_data.json', 'w') as file:\n",
    "    json.dump(data, file, indent=4)\n",
    "\n",
    "print(\"Combined data saved to 'combined_weather_data.json'\")"
   ]
  },
  {
   "cell_type": "code",
   "execution_count": 45,
   "id": "e525bdbc",
   "metadata": {},
   "outputs": [
    {
     "data": {
      "text/plain": [
       "dict_keys(['London', 'Paris', 'New York', 'Tokyo', 'Seoul', 'Beijing', 'Los Angeles', 'Moscow', 'Chicago', 'Bangkok', 'Miami', 'Toronto', 'Dallas', 'Italy', 'Singapore', 'Atlanta', 'Shanghai', 'Taiwan', 'Osaka', 'Mexico City'])"
      ]
     },
     "execution_count": 45,
     "metadata": {},
     "output_type": "execute_result"
    }
   ],
   "source": [
    "# 20 cities\n",
    "data.keys()"
   ]
  },
  {
   "cell_type": "code",
   "execution_count": 47,
   "id": "d56aa43f",
   "metadata": {},
   "outputs": [
    {
     "data": {
      "text/plain": [
       "30"
      ]
     },
     "execution_count": 47,
     "metadata": {},
     "output_type": "execute_result"
    }
   ],
   "source": [
    "# 30 days\n",
    "len(data['London']) "
   ]
  },
  {
   "cell_type": "code",
   "execution_count": 66,
   "id": "f782fd82",
   "metadata": {},
   "outputs": [
    {
     "data": {
      "text/plain": [
       "{'date': '2023-09-01',\n",
       " 'astronomy': [{'sunrise': '06:12 AM',\n",
       "   'sunset': '07:48 PM',\n",
       "   'moonrise': '08:37 PM',\n",
       "   'moonset': '07:47 AM',\n",
       "   'moon_phase': 'Waxing Gibbous',\n",
       "   'moon_illumination': '85'}],\n",
       " 'maxtempC': '23',\n",
       " 'maxtempF': '73',\n",
       " 'mintempC': '14',\n",
       " 'mintempF': '57',\n",
       " 'avgtempC': '18',\n",
       " 'avgtempF': '65',\n",
       " 'totalSnow_cm': '0.0',\n",
       " 'sunHour': '7.9',\n",
       " 'uvIndex': '4',\n",
       " 'hourly': [{'time': '24',\n",
       "   'tempC': '23',\n",
       "   'tempF': '73',\n",
       "   'windspeedMiles': '3',\n",
       "   'windspeedKmph': '5',\n",
       "   'winddirDegree': '210',\n",
       "   'winddir16Point': 'SSW',\n",
       "   'weatherCode': '122',\n",
       "   'weatherIconUrl': [{'value': 'https://cdn.worldweatheronline.com/images/wsymbols01_png_64/wsymbol_0004_black_low_cloud.png'}],\n",
       "   'weatherDesc': [{'value': 'Overcast'}],\n",
       "   'precipMM': '0.0',\n",
       "   'precipInches': '0.0',\n",
       "   'humidity': '71',\n",
       "   'visibility': '9',\n",
       "   'visibilityMiles': '5',\n",
       "   'pressure': '1011',\n",
       "   'pressureInches': '30',\n",
       "   'cloudcover': '63',\n",
       "   'HeatIndexC': '19',\n",
       "   'HeatIndexF': '66',\n",
       "   'DewPointC': '12',\n",
       "   'DewPointF': '54',\n",
       "   'WindChillC': '18',\n",
       "   'WindChillF': '65',\n",
       "   'WindGustMiles': '5',\n",
       "   'WindGustKmph': '7',\n",
       "   'FeelsLikeC': '18',\n",
       "   'FeelsLikeF': '65',\n",
       "   'uvIndex': '4'}]}"
      ]
     },
     "execution_count": 66,
     "metadata": {},
     "output_type": "execute_result"
    }
   ],
   "source": [
    "# record on specific day\n",
    "data['London']['2023-09-01']['data']['weather'][0]"
   ]
  },
  {
   "cell_type": "markdown",
   "id": "f419247a",
   "metadata": {},
   "source": [
    "# Summary Table"
   ]
  },
  {
   "cell_type": "code",
   "execution_count": 98,
   "id": "43c85abf",
   "metadata": {},
   "outputs": [],
   "source": [
    "lis = ['date','maxtempC','mintempC','avgtempC']\n",
    "City = ['London', 'Paris', 'New York', 'Tokyo', 'Seoul', 'Beijing', 'Los Angeles', 'Moscow', 'Chicago', 'Bangkok', 'Miami', 'Toronto', 'Dallas', 'Italy', 'Singapore', 'Atlanta', 'Shanghai', 'Taiwan', 'Osaka', 'Mexico City'] "
   ]
  },
  {
   "cell_type": "code",
   "execution_count": 97,
   "id": "8d139a58",
   "metadata": {},
   "outputs": [
    {
     "name": "stdout",
     "output_type": "stream",
     "text": [
      "           Date         City MinTemp MaxTemp AvgTemp\n",
      "0    2023-09-01       London      14      23      18\n",
      "1    2023-09-01        Paris      16      24      20\n",
      "2    2023-09-01     New York      16      27      21\n",
      "3    2023-09-01        Tokyo      27      32      29\n",
      "4    2023-09-01        Seoul      19      29      24\n",
      "..          ...          ...     ...     ...     ...\n",
      "595  2023-09-30      Atlanta      20      32      26\n",
      "596  2023-09-30     Shanghai      23      27      24\n",
      "597  2023-09-30       Taiwan      29      34      31\n",
      "598  2023-09-30        Osaka      21      28      25\n",
      "599  2023-09-30  Mexico City      13      24      18\n",
      "\n",
      "[600 rows x 5 columns]\n"
     ]
    }
   ],
   "source": [
    "data_list = []\n",
    "\n",
    "# Loop through each day in September 2023\n",
    "for day in range(1, 31):\n",
    "    date_key = f'2023-09-{day:02}'\n",
    "    \n",
    "    # Initialize dictionaries to store temperature details for each day\n",
    "    min_temps = {}\n",
    "    max_temps = {}\n",
    "    avg_temps = {}\n",
    "\n",
    "    # Loop through each city\n",
    "    for city in City:\n",
    "        if date_key in data[city]:\n",
    "            weather_info = data[city][date_key]['data']['weather'][0]\n",
    "            date = weather_info['date']\n",
    "            min_temp = weather_info['mintempC']\n",
    "            max_temp = weather_info['maxtempC']\n",
    "            avg_temp = weather_info['avgtempC']\n",
    "\n",
    "            # Append temperature details for each city and day to the data list\n",
    "            data_list.append({'Date': date, 'City': city, 'MinTemp': min_temp, 'MaxTemp': max_temp, 'AvgTemp': avg_temp})\n",
    "\n",
    "df = pd.DataFrame(data_list)\n",
    "print(df)"
   ]
  },
  {
   "cell_type": "markdown",
   "id": "bc26c3dd",
   "metadata": {},
   "source": [
    "# Plot\n",
    "Plot the mean temperature for each location, compare the temperature data and share your insights."
   ]
  },
  {
   "cell_type": "code",
   "execution_count": 99,
   "id": "01dd3294",
   "metadata": {},
   "outputs": [],
   "source": [
    "import matplotlib.pyplot as plt"
   ]
  },
  {
   "cell_type": "code",
   "execution_count": 110,
   "id": "799cc5d2",
   "metadata": {},
   "outputs": [
    {
     "data": {
      "text/html": [
       "<div>\n",
       "<style scoped>\n",
       "    .dataframe tbody tr th:only-of-type {\n",
       "        vertical-align: middle;\n",
       "    }\n",
       "\n",
       "    .dataframe tbody tr th {\n",
       "        vertical-align: top;\n",
       "    }\n",
       "\n",
       "    .dataframe thead th {\n",
       "        text-align: right;\n",
       "    }\n",
       "</style>\n",
       "<table border=\"1\" class=\"dataframe\">\n",
       "  <thead>\n",
       "    <tr style=\"text-align: right;\">\n",
       "      <th></th>\n",
       "      <th>City</th>\n",
       "      <th>AvgTemp</th>\n",
       "    </tr>\n",
       "  </thead>\n",
       "  <tbody>\n",
       "    <tr>\n",
       "      <th>0</th>\n",
       "      <td>Atlanta</td>\n",
       "      <td>24.400000</td>\n",
       "    </tr>\n",
       "    <tr>\n",
       "      <th>1</th>\n",
       "      <td>Bangkok</td>\n",
       "      <td>28.366667</td>\n",
       "    </tr>\n",
       "    <tr>\n",
       "      <th>2</th>\n",
       "      <td>Beijing</td>\n",
       "      <td>22.266667</td>\n",
       "    </tr>\n",
       "    <tr>\n",
       "      <th>3</th>\n",
       "      <td>Chicago</td>\n",
       "      <td>20.633333</td>\n",
       "    </tr>\n",
       "    <tr>\n",
       "      <th>4</th>\n",
       "      <td>Dallas</td>\n",
       "      <td>30.433333</td>\n",
       "    </tr>\n",
       "    <tr>\n",
       "      <th>5</th>\n",
       "      <td>Italy</td>\n",
       "      <td>23.400000</td>\n",
       "    </tr>\n",
       "    <tr>\n",
       "      <th>6</th>\n",
       "      <td>London</td>\n",
       "      <td>19.166667</td>\n",
       "    </tr>\n",
       "    <tr>\n",
       "      <th>7</th>\n",
       "      <td>Los Angeles</td>\n",
       "      <td>21.900000</td>\n",
       "    </tr>\n",
       "    <tr>\n",
       "      <th>8</th>\n",
       "      <td>Mexico City</td>\n",
       "      <td>17.700000</td>\n",
       "    </tr>\n",
       "    <tr>\n",
       "      <th>9</th>\n",
       "      <td>Miami</td>\n",
       "      <td>28.866667</td>\n",
       "    </tr>\n",
       "    <tr>\n",
       "      <th>10</th>\n",
       "      <td>Moscow</td>\n",
       "      <td>15.666667</td>\n",
       "    </tr>\n",
       "    <tr>\n",
       "      <th>11</th>\n",
       "      <td>New York</td>\n",
       "      <td>21.100000</td>\n",
       "    </tr>\n",
       "    <tr>\n",
       "      <th>12</th>\n",
       "      <td>Osaka</td>\n",
       "      <td>26.533333</td>\n",
       "    </tr>\n",
       "    <tr>\n",
       "      <th>13</th>\n",
       "      <td>Paris</td>\n",
       "      <td>21.433333</td>\n",
       "    </tr>\n",
       "    <tr>\n",
       "      <th>14</th>\n",
       "      <td>Seoul</td>\n",
       "      <td>22.433333</td>\n",
       "    </tr>\n",
       "    <tr>\n",
       "      <th>15</th>\n",
       "      <td>Shanghai</td>\n",
       "      <td>25.100000</td>\n",
       "    </tr>\n",
       "    <tr>\n",
       "      <th>16</th>\n",
       "      <td>Singapore</td>\n",
       "      <td>28.033333</td>\n",
       "    </tr>\n",
       "    <tr>\n",
       "      <th>17</th>\n",
       "      <td>Taiwan</td>\n",
       "      <td>29.033333</td>\n",
       "    </tr>\n",
       "    <tr>\n",
       "      <th>18</th>\n",
       "      <td>Tokyo</td>\n",
       "      <td>26.966667</td>\n",
       "    </tr>\n",
       "    <tr>\n",
       "      <th>19</th>\n",
       "      <td>Toronto</td>\n",
       "      <td>19.066667</td>\n",
       "    </tr>\n",
       "  </tbody>\n",
       "</table>\n",
       "</div>"
      ],
      "text/plain": [
       "           City    AvgTemp\n",
       "0       Atlanta  24.400000\n",
       "1       Bangkok  28.366667\n",
       "2       Beijing  22.266667\n",
       "3       Chicago  20.633333\n",
       "4        Dallas  30.433333\n",
       "5         Italy  23.400000\n",
       "6        London  19.166667\n",
       "7   Los Angeles  21.900000\n",
       "8   Mexico City  17.700000\n",
       "9         Miami  28.866667\n",
       "10       Moscow  15.666667\n",
       "11     New York  21.100000\n",
       "12        Osaka  26.533333\n",
       "13        Paris  21.433333\n",
       "14        Seoul  22.433333\n",
       "15     Shanghai  25.100000\n",
       "16    Singapore  28.033333\n",
       "17       Taiwan  29.033333\n",
       "18        Tokyo  26.966667\n",
       "19      Toronto  19.066667"
      ]
     },
     "execution_count": 110,
     "metadata": {},
     "output_type": "execute_result"
    }
   ],
   "source": [
    "# Calculate the mean temperature for each location\n",
    "df['AvgTemp'] = df['AvgTemp'].astype(float)\n",
    "mean = df.groupby('City')['AvgTemp'].mean().reset_index()\n",
    "mean"
   ]
  },
  {
   "cell_type": "code",
   "execution_count": 112,
   "id": "ed1ba7c1",
   "metadata": {},
   "outputs": [],
   "source": [
    "mean = mean.sort_values(by='AvgTemp', ascending=False)"
   ]
  },
  {
   "cell_type": "code",
   "execution_count": 114,
   "id": "8f20ed53",
   "metadata": {},
   "outputs": [
    {
     "data": {
      "image/png": "[encoded data removed]",
      "text/plain": [
       "<Figure size 1000x600 with 1 Axes>"
      ]
     },
     "metadata": {},
     "output_type": "display_data"
    }
   ],
   "source": [
    "plt.figure(figsize=(10, 6))\n",
    "plt.bar(mean['City'], mean['AvgTemp'], color='skyblue')\n",
    "plt.xlabel('City')\n",
    "plt.ylabel('Mean Temperature (°C)')\n",
    "plt.title('Mean Temperature for Each Location in September 2023')\n",
    "plt.xticks(rotation=45, ha='right')  # Rotate x-axis labels for readability\n",
    "\n",
    "# Display the plot\n",
    "plt.tight_layout()\n",
    "plt.show()"
   ]
  },
  {
   "cell_type": "markdown",
   "id": "f6bee5f8",
   "metadata": {},
   "source": [
    "We create a bar plot showing the mean temperature (in °C) for each location in descending order. The x-axis represents the cities, and the y-axis represents the mean temperature."
   ]
  },
  {
   "cell_type": "code",
   "execution_count": 120,
   "id": "6b35b792",
   "metadata": {},
   "outputs": [
    {
     "data": {
      "text/plain": [
       "14.766666666666667"
      ]
     },
     "execution_count": 120,
     "metadata": {},
     "output_type": "execute_result"
    }
   ],
   "source": [
    "max(mean['AvgTemp'])-min(mean['AvgTemp'])"
   ]
  },
  {
   "cell_type": "markdown",
   "id": "d4536f26",
   "metadata": {},
   "source": [
    "We see that on average for each month, Dallas has the highest mean temperatures and Moscow has the lowest mean temperatures in September 2023. Also, the greatest difference between these two cities is approximately 15 degrees on average. "
   ]
  }
 ],
 "metadata": {
  "kernelspec": {
   "display_name": "Python 3 (ipykernel)",
   "language": "python",
   "name": "python3"
  },
  "language_info": {
   "codemirror_mode": {
    "name": "ipython",
    "version": 3
   },
   "file_extension": ".py",
   "mimetype": "text/x-python",
   "name": "python",
   "nbconvert_exporter": "python",
   "pygments_lexer": "ipython3",
   "version": "3.11.6"
  }
 },
 "nbformat": 4,
 "nbformat_minor": 5
}
